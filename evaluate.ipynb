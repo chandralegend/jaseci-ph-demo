{
 "cells": [
  {
   "cell_type": "code",
   "execution_count": 38,
   "metadata": {},
   "outputs": [],
   "source": [
    "import json\n",
    "import pandas as pd\n",
    "\n",
    "user = 'user_3'\n",
    "\n",
    "trained_outputs = json.loads(open(f\"output/{user}_trained_outputs.json\").read())\n",
    "untrained_outputs = json.loads(open(f\"output/{user}_untrained_outputs.json\").read())"
   ]
  },
  {
   "cell_type": "code",
   "execution_count": 39,
   "metadata": {},
   "outputs": [],
   "source": [
    "untrained_outputs_df = pd.DataFrame(untrained_outputs)\n",
    "trained_outputs_df = pd.DataFrame(trained_outputs)"
   ]
  },
  {
   "cell_type": "code",
   "execution_count": 40,
   "metadata": {},
   "outputs": [],
   "source": [
    "# calculate the accuracy of of the df\n",
    "def calculate_accuracy(df):\n",
    "    correct = df[df['best_match'] == df['target']]\n",
    "    return len(correct) / len(df)"
   ]
  },
  {
   "cell_type": "code",
   "execution_count": 41,
   "metadata": {},
   "outputs": [
    {
     "name": "stdout",
     "output_type": "stream",
     "text": [
      "Untrained accuracy: 0.453125\n",
      "Trained accuracy: 0.484375\n"
     ]
    }
   ],
   "source": [
    "untrained_acc = calculate_accuracy(untrained_outputs_df)\n",
    "trained_acc = calculate_accuracy(trained_outputs_df)\n",
    "\n",
    "print(f\"Untrained accuracy: {untrained_acc}\")\n",
    "print(f\"Trained accuracy: {trained_acc}\")"
   ]
  },
  {
   "cell_type": "code",
   "execution_count": null,
   "metadata": {},
   "outputs": [],
   "source": []
  }
 ],
 "metadata": {
  "kernelspec": {
   "display_name": "Python 3.9.12 ('chandra')",
   "language": "python",
   "name": "python3"
  },
  "language_info": {
   "codemirror_mode": {
    "name": "ipython",
    "version": 3
   },
   "file_extension": ".py",
   "mimetype": "text/x-python",
   "name": "python",
   "nbconvert_exporter": "python",
   "pygments_lexer": "ipython3",
   "version": "3.9.12"
  },
  "orig_nbformat": 4,
  "vscode": {
   "interpreter": {
    "hash": "40a17e1f9b8266ffa8e0397abc9a9c64f998c1c2495387d70995a73d6c3e9256"
   }
  }
 },
 "nbformat": 4,
 "nbformat_minor": 2
}
